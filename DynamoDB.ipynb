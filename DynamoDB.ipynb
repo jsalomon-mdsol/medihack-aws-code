{
 "cells": [
  {
   "cell_type": "code",
   "execution_count": 1,
   "metadata": {},
   "outputs": [],
   "source": [
    "import boto3"
   ]
  },
  {
   "cell_type": "code",
   "execution_count": 9,
   "metadata": {},
   "outputs": [
    {
     "data": {
      "text/plain": [
       "'Table has been created'"
      ]
     },
     "execution_count": 9,
     "metadata": {},
     "output_type": "execute_result"
    }
   ],
   "source": [
    "def create_table(tablename, keyschema, attr_def, provisioned_throughput):\n",
    "    dynamodb = boto3.resource('dynamodb')\n",
    "    \n",
    "    table = dynamodb.create_table(\n",
    "        TableName=tablename,\n",
    "        KeySchema=keyschema,\n",
    "        AttributeDefinitions = attr_def,\n",
    "        ProvisionedThroughput= provisioned_throughput\n",
    "    )\n",
    "    \n",
    "    return \"Table has been created\"\n",
    "    \n",
    "    \n",
    "    \n",
    "keyschema = [\n",
    "    {\n",
    "        'AttributeName': 'username',\n",
    "        'KeyType': 'HASH'\n",
    "    },\n",
    "    {\n",
    "        'AttributeName': 'last_name',\n",
    "        'KeyType': 'RANGE'\n",
    "    }\n",
    "]\n",
    "\n",
    "attr_def =[\n",
    "    {\n",
    "        'AttributeName': 'username',\n",
    "        'AttributeType': 'S'\n",
    "    },\n",
    "    {\n",
    "        'AttributeName': 'last_name',\n",
    "        'AttributeType': 'S'\n",
    "    },\n",
    "]\n",
    "    \n",
    "provisioned_throughput = {\n",
    "    'ReadCapacityUnits': 5,\n",
    "    'WriteCapacityUnits': 5\n",
    "}\n",
    "\n",
    "create_table('userss', keyschema, attr_def, provisioned_throughput)"
   ]
  },
  {
   "cell_type": "code",
   "execution_count": 19,
   "metadata": {},
   "outputs": [
    {
     "data": {
      "text/plain": [
       "'Table has been deleted'"
      ]
     },
     "execution_count": 19,
     "metadata": {},
     "output_type": "execute_result"
    }
   ],
   "source": [
    "def delete_table(tablename):\n",
    "    dynamodb = boto3.resource('dynamodb')\n",
    "    table = dynamodb.Table(tablename)\n",
    "    table.delete()\n",
    "    return \"Table has been deleted\"\n",
    "\n",
    "delete_table('userss')"
   ]
  },
  {
   "cell_type": "code",
   "execution_count": 12,
   "metadata": {},
   "outputs": [
    {
     "name": "stdout",
     "output_type": "stream",
     "text": [
      "{'username': 'jelo', 'last_name': 'salomon'}\n"
     ]
    },
    {
     "data": {
      "text/plain": [
       "'Item has been created into the table'"
      ]
     },
     "execution_count": 12,
     "metadata": {},
     "output_type": "execute_result"
    }
   ],
   "source": [
    "# Create a new item in the table\n",
    "def create_item(tablename, item):\n",
    "    dynamodb = boto3.resource('dynamodb')\n",
    "    table = dynamodb.Table(tablename)\n",
    "    \n",
    "    table.put_item(\n",
    "        Item = item\n",
    "    )\n",
    "    \n",
    "    print(item)\n",
    "    return \"Item has been created into the table\"\n",
    "\n",
    "\n",
    "item = {\n",
    "    'username':'jelo',\n",
    "    'last_name': 'salomon'\n",
    "}\n",
    "\n",
    "create_item('users', item)"
   ]
  },
  {
   "cell_type": "code",
   "execution_count": 14,
   "metadata": {},
   "outputs": [
    {
     "name": "stdout",
     "output_type": "stream",
     "text": [
      "{'last_name': 'salomon', 'username': 'jelo'}\n"
     ]
    },
    {
     "data": {
      "text/plain": [
       "'Item has been retrieved'"
      ]
     },
     "execution_count": 14,
     "metadata": {},
     "output_type": "execute_result"
    }
   ],
   "source": [
    "# Get an item\n",
    "def get_item(tablename, key):\n",
    "    dynamodb = boto3.resource('dynamodb')\n",
    "    table = dynamodb.Table(tablename)\n",
    "    \n",
    "    response = table.get_item(\n",
    "        Key = key\n",
    "    )\n",
    "    \n",
    "    item = response['Item']\n",
    "    print(item)\n",
    "    \n",
    "    return \"Item has been retrieved\"\n",
    "\n",
    "key = {\n",
    "    'username':'jelo',\n",
    "    'last_name': 'salomon'\n",
    "}\n",
    "\n",
    "get_item('users', key)"
   ]
  },
  {
   "cell_type": "code",
   "execution_count": 16,
   "metadata": {},
   "outputs": [
    {
     "name": "stdout",
     "output_type": "stream",
     "text": [
      "{'last_name': 'salomon', 'username': 'jelo', 'age': Decimal('26')}\n"
     ]
    },
    {
     "data": {
      "text/plain": [
       "'Item has been updated on the table'"
      ]
     },
     "execution_count": 16,
     "metadata": {},
     "output_type": "execute_result"
    }
   ],
   "source": [
    "def update_item(tablename, key, update_expression, expressionattrval):\n",
    "    dynamodb = boto3.resource('dynamodb')\n",
    "    table = dynamodb.Table(tablename)\n",
    "    \n",
    "    table.update_item(\n",
    "        Key=key,\n",
    "        UpdateExpression=update_expression,\n",
    "        ExpressionAttributeValues=expressionattrval\n",
    "    )\n",
    "    \n",
    "    get_item(tablename,key)\n",
    "    \n",
    "    return \"Item has been updated on the table\"\n",
    "\n",
    "key = {\n",
    "    'username':'jelo',\n",
    "    'last_name': 'salomon'\n",
    "}\n",
    "\n",
    "update_expression = 'SET age = :val1'\n",
    "\n",
    "expressionattrval = {\n",
    "    ':val1': 26\n",
    "}\n",
    "\n",
    "update_item('users',key,update_expression, expressionattrval)"
   ]
  },
  {
   "cell_type": "code",
   "execution_count": 17,
   "metadata": {},
   "outputs": [
    {
     "data": {
      "text/plain": [
       "'Item has been deleted'"
      ]
     },
     "execution_count": 17,
     "metadata": {},
     "output_type": "execute_result"
    }
   ],
   "source": [
    "def delete_item(tablename,key):\n",
    "    dynamodb = boto3.resource('dynamodb')\n",
    "    table = dynamodb.Table(tablename)\n",
    "    \n",
    "    table.delete_item(\n",
    "        Key=key\n",
    "    )\n",
    "    \n",
    "    return \"Item has been deleted\"\n",
    "\n",
    "key = {\n",
    "    'username':'jelo',\n",
    "    'last_name': 'salomon'\n",
    "}\n",
    "\n",
    "delete_item('users',key)"
   ]
  },
  {
   "cell_type": "code",
   "execution_count": null,
   "metadata": {},
   "outputs": [],
   "source": []
  }
 ],
 "metadata": {
  "kernelspec": {
   "display_name": "Python 3",
   "language": "python",
   "name": "python3"
  },
  "language_info": {
   "codemirror_mode": {
    "name": "ipython",
    "version": 3
   },
   "file_extension": ".py",
   "mimetype": "text/x-python",
   "name": "python",
   "nbconvert_exporter": "python",
   "pygments_lexer": "ipython3",
   "version": "3.6.7"
  }
 },
 "nbformat": 4,
 "nbformat_minor": 2
}
