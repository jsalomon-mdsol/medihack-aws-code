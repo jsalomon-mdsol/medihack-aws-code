{
 "cells": [
  {
   "cell_type": "code",
   "execution_count": 9,
   "metadata": {},
   "outputs": [],
   "source": [
    "import boto3\n",
    "import boto\n",
    "client = boto3.client('comprehend')"
   ]
  },
  {
   "cell_type": "markdown",
   "metadata": {},
   "source": [
    "AWS Comprehend allows you to discover insights and relationships in texts for text analytics which includes sentiment analysis, entity detection, key phrases detection, language detection and topic modelling"
   ]
  },
  {
   "cell_type": "code",
   "execution_count": 7,
   "metadata": {},
   "outputs": [
    {
     "data": {
      "text/plain": [
       "[{'LanguageCode': 'en', 'Score': 0.999245285987854}]"
      ]
     },
     "execution_count": 7,
     "metadata": {},
     "output_type": "execute_result"
    }
   ],
   "source": [
    "def detect_dominant_language(text):\n",
    "    \"Determines the dominant language of the input text for a batch of documents\"\n",
    "    client = boto3.client('comprehend')\n",
    "    response = client.detect_dominant_language(\n",
    "        Text = text\n",
    "    )\n",
    "    return response['Languages']\n",
    "\n",
    "text = \"Amazon.com, Inc. is located in Seattle, WA and was founded July 5th, 1994 by Jeff Bezos, allowing customers to buy everything from books to blenders. Seattle is north of Portland and south of Vancouver, BC. Other notable Seattle - based companies are Starbucks and Boeing.\"\n",
    "detect_dominant_language(text)"
   ]
  },
  {
   "cell_type": "code",
   "execution_count": 7,
   "metadata": {},
   "outputs": [
    {
     "data": {
      "text/plain": [
       "[{'LanguageCode': 'fr', 'Score': 0.9987980127334595}]"
      ]
     },
     "execution_count": 7,
     "metadata": {},
     "output_type": "execute_result"
    }
   ],
   "source": [
    "text = \"Maître Corbeau, sur un arbre perché, Tenait en son bec un fromage. Maître Renard, par l’odeur alléché, Lui tint à peu près ce langage\"\n",
    "detect_dominant_language(text)"
   ]
  },
  {
   "cell_type": "code",
   "execution_count": 21,
   "metadata": {},
   "outputs": [
    {
     "data": {
      "text/plain": [
       "[{'Score': 0.9626241326332092,\n",
       "  'Type': 'PERSON',\n",
       "  'Text': 'Bob',\n",
       "  'BeginOffset': 0,\n",
       "  'EndOffset': 3},\n",
       " {'Score': 0.8694138526916504,\n",
       "  'Type': 'QUANTITY',\n",
       "  'Text': 'two sandwiches',\n",
       "  'BeginOffset': 12,\n",
       "  'EndOffset': 26},\n",
       " {'Score': 0.8618291616439819,\n",
       "  'Type': 'QUANTITY',\n",
       "  'Text': 'three ice cream cones',\n",
       "  'BeginOffset': 31,\n",
       "  'EndOffset': 52},\n",
       " {'Score': 0.9653785824775696,\n",
       "  'Type': 'DATE',\n",
       "  'Text': 'today',\n",
       "  'BeginOffset': 53,\n",
       "  'EndOffset': 58},\n",
       " {'Score': 0.9990045428276062,\n",
       "  'Type': 'LOCATION',\n",
       "  'Text': 'Seattle',\n",
       "  'BeginOffset': 75,\n",
       "  'EndOffset': 82}]"
      ]
     },
     "execution_count": 21,
     "metadata": {},
     "output_type": "execute_result"
    }
   ],
   "source": [
    "def detect_entities(text):\n",
    "    'Inspects the text of a batch of documents for named entities and returns information about them. '\n",
    "    client = boto3.client('comprehend')\n",
    "    response = client.detect_entities(\n",
    "        Text = text,\n",
    "        LanguageCode ='en'\n",
    "    )\n",
    "    return response['Entities']\n",
    "\n",
    "text = \"Bob ordered two sandwiches and three ice cream cones today from a store in Seattle.\"\n",
    "detect_entities(text)"
   ]
  },
  {
   "cell_type": "code",
   "execution_count": 20,
   "metadata": {},
   "outputs": [
    {
     "data": {
      "text/plain": [
       "[{'Score': 0.9958248138427734,\n",
       "  'Text': 'Bob',\n",
       "  'BeginOffset': 0,\n",
       "  'EndOffset': 3},\n",
       " {'Score': 0.9890786409378052,\n",
       "  'Text': 'two sandwiches',\n",
       "  'BeginOffset': 12,\n",
       "  'EndOffset': 26},\n",
       " {'Score': 0.911596417427063,\n",
       "  'Text': 'three ice cream cones',\n",
       "  'BeginOffset': 31,\n",
       "  'EndOffset': 52},\n",
       " {'Score': 0.9963304400444031,\n",
       "  'Text': 'today',\n",
       "  'BeginOffset': 53,\n",
       "  'EndOffset': 58},\n",
       " {'Score': 0.9990959763526917,\n",
       "  'Text': 'a store',\n",
       "  'BeginOffset': 64,\n",
       "  'EndOffset': 71},\n",
       " {'Score': 0.9991672039031982,\n",
       "  'Text': 'Seattle',\n",
       "  'BeginOffset': 75,\n",
       "  'EndOffset': 82}]"
      ]
     },
     "execution_count": 20,
     "metadata": {},
     "output_type": "execute_result"
    }
   ],
   "source": [
    "def detect_key_phrases(text):\n",
    "    response = client.detect_key_phrases(\n",
    "        Text=text,\n",
    "        LanguageCode='en'\n",
    "    )\n",
    "    \n",
    "    return response['KeyPhrases']\n",
    "\n",
    "text = \"Bob ordered two sandwiches and three ice cream cones today from a store in Seattle.\"\n",
    "detect_key_phrases(text)"
   ]
  },
  {
   "cell_type": "code",
   "execution_count": 12,
   "metadata": {},
   "outputs": [
    {
     "data": {
      "text/plain": [
       "'NEUTRAL'"
      ]
     },
     "execution_count": 12,
     "metadata": {},
     "output_type": "execute_result"
    }
   ],
   "source": [
    "def detect_sentiment(text):\n",
    "    response = client.detect_sentiment(\n",
    "        Text = text,\n",
    "        LanguageCode='en'\n",
    "    )\n",
    "    return response['Sentiment']\n",
    "\n",
    "text = \"Bob ordered two sandwiches and three ice cream cones today from a store in Seattle\"\n",
    "detect_sentiment(text)"
   ]
  },
  {
   "cell_type": "code",
   "execution_count": 27,
   "metadata": {},
   "outputs": [
    {
     "data": {
      "text/plain": [
       "[{'TokenId': 1,\n",
       "  'Text': 'Bob',\n",
       "  'BeginOffset': 0,\n",
       "  'EndOffset': 3,\n",
       "  'PartOfSpeech': {'Tag': 'PROPN', 'Score': 0.9951459765434265}},\n",
       " {'TokenId': 2,\n",
       "  'Text': 'ordered',\n",
       "  'BeginOffset': 4,\n",
       "  'EndOffset': 11,\n",
       "  'PartOfSpeech': {'Tag': 'VERB', 'Score': 0.9998058676719666}},\n",
       " {'TokenId': 3,\n",
       "  'Text': 'two',\n",
       "  'BeginOffset': 12,\n",
       "  'EndOffset': 15,\n",
       "  'PartOfSpeech': {'Tag': 'NUM', 'Score': 0.9999550580978394}},\n",
       " {'TokenId': 4,\n",
       "  'Text': 'sandwiches',\n",
       "  'BeginOffset': 16,\n",
       "  'EndOffset': 26,\n",
       "  'PartOfSpeech': {'Tag': 'NOUN', 'Score': 0.9998180270195007}},\n",
       " {'TokenId': 5,\n",
       "  'Text': 'and',\n",
       "  'BeginOffset': 27,\n",
       "  'EndOffset': 30,\n",
       "  'PartOfSpeech': {'Tag': 'CONJ', 'Score': 0.9999980926513672}},\n",
       " {'TokenId': 6,\n",
       "  'Text': 'three',\n",
       "  'BeginOffset': 31,\n",
       "  'EndOffset': 36,\n",
       "  'PartOfSpeech': {'Tag': 'NUM', 'Score': 0.9992952346801758}},\n",
       " {'TokenId': 7,\n",
       "  'Text': 'ice',\n",
       "  'BeginOffset': 37,\n",
       "  'EndOffset': 40,\n",
       "  'PartOfSpeech': {'Tag': 'NOUN', 'Score': 0.9962093830108643}},\n",
       " {'TokenId': 8,\n",
       "  'Text': 'cream',\n",
       "  'BeginOffset': 41,\n",
       "  'EndOffset': 46,\n",
       "  'PartOfSpeech': {'Tag': 'NOUN', 'Score': 0.9957352876663208}},\n",
       " {'TokenId': 9,\n",
       "  'Text': 'cones',\n",
       "  'BeginOffset': 47,\n",
       "  'EndOffset': 52,\n",
       "  'PartOfSpeech': {'Tag': 'NOUN', 'Score': 0.9895071387290955}},\n",
       " {'TokenId': 10,\n",
       "  'Text': 'today',\n",
       "  'BeginOffset': 53,\n",
       "  'EndOffset': 58,\n",
       "  'PartOfSpeech': {'Tag': 'NOUN', 'Score': 0.9991832375526428}},\n",
       " {'TokenId': 11,\n",
       "  'Text': 'from',\n",
       "  'BeginOffset': 59,\n",
       "  'EndOffset': 63,\n",
       "  'PartOfSpeech': {'Tag': 'ADP', 'Score': 0.9995521903038025}},\n",
       " {'TokenId': 12,\n",
       "  'Text': 'a',\n",
       "  'BeginOffset': 64,\n",
       "  'EndOffset': 65,\n",
       "  'PartOfSpeech': {'Tag': 'DET', 'Score': 0.9999947547912598}},\n",
       " {'TokenId': 13,\n",
       "  'Text': 'store',\n",
       "  'BeginOffset': 66,\n",
       "  'EndOffset': 71,\n",
       "  'PartOfSpeech': {'Tag': 'NOUN', 'Score': 0.9999434947967529}},\n",
       " {'TokenId': 14,\n",
       "  'Text': 'in',\n",
       "  'BeginOffset': 72,\n",
       "  'EndOffset': 74,\n",
       "  'PartOfSpeech': {'Tag': 'ADP', 'Score': 0.9999580383300781}},\n",
       " {'TokenId': 15,\n",
       "  'Text': 'Seattle',\n",
       "  'BeginOffset': 75,\n",
       "  'EndOffset': 82,\n",
       "  'PartOfSpeech': {'Tag': 'PROPN', 'Score': 0.9983042478561401}},\n",
       " {'TokenId': 16,\n",
       "  'Text': '.',\n",
       "  'BeginOffset': 82,\n",
       "  'EndOffset': 83,\n",
       "  'PartOfSpeech': {'Tag': 'PUNCT', 'Score': 0.9999973773956299}}]"
      ]
     },
     "execution_count": 27,
     "metadata": {},
     "output_type": "execute_result"
    }
   ],
   "source": [
    "def detect_syntax(text):\n",
    "    response = client.detect_syntax(\n",
    "        Text= text,\n",
    "        LanguageCode='en'\n",
    "    )\n",
    "    \n",
    "    return response['SyntaxTokens']\n",
    "text = \"Bob ordered two sandwiches and three ice cream cones today from a store in Seattle.\"\n",
    "detect_syntax(text)"
   ]
  },
  {
   "cell_type": "code",
   "execution_count": 3,
   "metadata": {},
   "outputs": [
    {
     "ename": "UnknownServiceError",
     "evalue": "Unknown service: 'comprehendmedical'. Valid service names are: acm, acm-pca, alexaforbusiness, apigateway, application-autoscaling, appstream, appsync, athena, autoscaling, autoscaling-plans, batch, budgets, ce, cloud9, clouddirectory, cloudformation, cloudfront, cloudhsm, cloudhsmv2, cloudsearch, cloudsearchdomain, cloudtrail, cloudwatch, codebuild, codecommit, codedeploy, codepipeline, codestar, cognito-identity, cognito-idp, cognito-sync, comprehend, config, connect, cur, datapipeline, dax, devicefarm, directconnect, discovery, dlm, dms, ds, dynamodb, dynamodbstreams, ec2, ecr, ecs, efs, eks, elasticache, elasticbeanstalk, elastictranscoder, elb, elbv2, emr, es, events, firehose, fms, gamelift, glacier, glue, greengrass, guardduty, health, iam, importexport, inspector, iot, iot-data, iot-jobs-data, iot1click-devices, iot1click-projects, iotanalytics, kinesis, kinesis-video-archived-media, kinesis-video-media, kinesisanalytics, kinesisvideo, kms, lambda, lex-models, lex-runtime, lightsail, logs, machinelearning, macie, marketplace-entitlement, marketplacecommerceanalytics, mediaconvert, medialive, mediapackage, mediastore, mediastore-data, mediatailor, meteringmarketplace, mgh, mobile, mq, mturk, neptune, opsworks, opsworkscm, organizations, pi, pinpoint, polly, pricing, rds, redshift, rekognition, resource-groups, resourcegroupstaggingapi, route53, route53domains, s3, sagemaker, sagemaker-runtime, sdb, secretsmanager, serverlessrepo, servicecatalog, servicediscovery, ses, shield, signer, sms, snowball, sns, sqs, ssm, stepfunctions, storagegateway, sts, support, swf, transcribe, translate, waf, waf-regional, workdocs, workmail, workspaces, xray",
     "output_type": "error",
     "traceback": [
      "\u001b[0;31m---------------------------------------------------------------------------\u001b[0m",
      "\u001b[0;31mUnknownServiceError\u001b[0m                       Traceback (most recent call last)",
      "\u001b[0;32m<ipython-input-3-7075c0237ca7>\u001b[0m in \u001b[0;36m<module>\u001b[0;34m\u001b[0m\n\u001b[1;32m      1\u001b[0m \u001b[0;32mimport\u001b[0m \u001b[0mboto3\u001b[0m\u001b[0;34m\u001b[0m\u001b[0;34m\u001b[0m\u001b[0m\n\u001b[0;32m----> 2\u001b[0;31m \u001b[0mcomprehendmedical\u001b[0m \u001b[0;34m=\u001b[0m \u001b[0mboto3\u001b[0m\u001b[0;34m.\u001b[0m\u001b[0mclient\u001b[0m\u001b[0;34m(\u001b[0m\u001b[0;34m'comprehendmedical'\u001b[0m\u001b[0;34m)\u001b[0m\u001b[0;34m\u001b[0m\u001b[0;34m\u001b[0m\u001b[0m\n\u001b[0m\u001b[1;32m      3\u001b[0m \u001b[0;34m\u001b[0m\u001b[0m\n\u001b[1;32m      4\u001b[0m \u001b[0mtext\u001b[0m \u001b[0;34m=\u001b[0m \u001b[0;34m\"Pt is 40yo mother, software engineer HPI : Sleeping trouble on present dosage of Clonidine. Severe Rash  on face and leg, slightly itchy  Meds : Vyvanse  50 mgs po at breakfast daily, Clonidine 0.2 mgs -- 1 and 1 / 2 tabs po qhs HEENT :  Boggy inferior turbinates, No oropharyngeal lesion Lungs : clear Heart : Regular  rhythm Skin :  Papular mild erythematous eruption to hairline Follow-up as scheduled\"\u001b[0m\u001b[0;34m\u001b[0m\u001b[0;34m\u001b[0m\u001b[0m\n",
      "\u001b[0;32m~/anaconda3/envs/python36/lib/python3.6/site-packages/boto3/__init__.py\u001b[0m in \u001b[0;36mclient\u001b[0;34m(*args, **kwargs)\u001b[0m\n\u001b[1;32m     89\u001b[0m     \u001b[0mSee\u001b[0m \u001b[0;34m:\u001b[0m\u001b[0mpy\u001b[0m\u001b[0;34m:\u001b[0m\u001b[0mmeth\u001b[0m\u001b[0;34m:\u001b[0m\u001b[0;31m`\u001b[0m\u001b[0mboto3\u001b[0m\u001b[0;34m.\u001b[0m\u001b[0msession\u001b[0m\u001b[0;34m.\u001b[0m\u001b[0mSession\u001b[0m\u001b[0;34m.\u001b[0m\u001b[0mclient\u001b[0m\u001b[0;31m`\u001b[0m\u001b[0;34m.\u001b[0m\u001b[0;34m\u001b[0m\u001b[0;34m\u001b[0m\u001b[0m\n\u001b[1;32m     90\u001b[0m     \"\"\"\n\u001b[0;32m---> 91\u001b[0;31m     \u001b[0;32mreturn\u001b[0m \u001b[0m_get_default_session\u001b[0m\u001b[0;34m(\u001b[0m\u001b[0;34m)\u001b[0m\u001b[0;34m.\u001b[0m\u001b[0mclient\u001b[0m\u001b[0;34m(\u001b[0m\u001b[0;34m*\u001b[0m\u001b[0margs\u001b[0m\u001b[0;34m,\u001b[0m \u001b[0;34m**\u001b[0m\u001b[0mkwargs\u001b[0m\u001b[0;34m)\u001b[0m\u001b[0;34m\u001b[0m\u001b[0;34m\u001b[0m\u001b[0m\n\u001b[0m\u001b[1;32m     92\u001b[0m \u001b[0;34m\u001b[0m\u001b[0m\n\u001b[1;32m     93\u001b[0m \u001b[0;34m\u001b[0m\u001b[0m\n",
      "\u001b[0;32m~/anaconda3/envs/python36/lib/python3.6/site-packages/boto3/session.py\u001b[0m in \u001b[0;36mclient\u001b[0;34m(self, service_name, region_name, api_version, use_ssl, verify, endpoint_url, aws_access_key_id, aws_secret_access_key, aws_session_token, config)\u001b[0m\n\u001b[1;32m    261\u001b[0m             \u001b[0maws_access_key_id\u001b[0m\u001b[0;34m=\u001b[0m\u001b[0maws_access_key_id\u001b[0m\u001b[0;34m,\u001b[0m\u001b[0;34m\u001b[0m\u001b[0;34m\u001b[0m\u001b[0m\n\u001b[1;32m    262\u001b[0m             \u001b[0maws_secret_access_key\u001b[0m\u001b[0;34m=\u001b[0m\u001b[0maws_secret_access_key\u001b[0m\u001b[0;34m,\u001b[0m\u001b[0;34m\u001b[0m\u001b[0;34m\u001b[0m\u001b[0m\n\u001b[0;32m--> 263\u001b[0;31m             aws_session_token=aws_session_token, config=config)\n\u001b[0m\u001b[1;32m    264\u001b[0m \u001b[0;34m\u001b[0m\u001b[0m\n\u001b[1;32m    265\u001b[0m     def resource(self, service_name, region_name=None, api_version=None,\n",
      "\u001b[0;32m~/anaconda3/envs/python36/lib/python3.6/site-packages/botocore/session.py\u001b[0m in \u001b[0;36mcreate_client\u001b[0;34m(self, service_name, region_name, api_version, use_ssl, verify, endpoint_url, aws_access_key_id, aws_secret_access_key, aws_session_token, config)\u001b[0m\n\u001b[1;32m    887\u001b[0m             \u001b[0mis_secure\u001b[0m\u001b[0;34m=\u001b[0m\u001b[0muse_ssl\u001b[0m\u001b[0;34m,\u001b[0m \u001b[0mendpoint_url\u001b[0m\u001b[0;34m=\u001b[0m\u001b[0mendpoint_url\u001b[0m\u001b[0;34m,\u001b[0m \u001b[0mverify\u001b[0m\u001b[0;34m=\u001b[0m\u001b[0mverify\u001b[0m\u001b[0;34m,\u001b[0m\u001b[0;34m\u001b[0m\u001b[0;34m\u001b[0m\u001b[0m\n\u001b[1;32m    888\u001b[0m             \u001b[0mcredentials\u001b[0m\u001b[0;34m=\u001b[0m\u001b[0mcredentials\u001b[0m\u001b[0;34m,\u001b[0m \u001b[0mscoped_config\u001b[0m\u001b[0;34m=\u001b[0m\u001b[0mself\u001b[0m\u001b[0;34m.\u001b[0m\u001b[0mget_scoped_config\u001b[0m\u001b[0;34m(\u001b[0m\u001b[0;34m)\u001b[0m\u001b[0;34m,\u001b[0m\u001b[0;34m\u001b[0m\u001b[0;34m\u001b[0m\u001b[0m\n\u001b[0;32m--> 889\u001b[0;31m             client_config=config, api_version=api_version)\n\u001b[0m\u001b[1;32m    890\u001b[0m         \u001b[0;32mreturn\u001b[0m \u001b[0mclient\u001b[0m\u001b[0;34m\u001b[0m\u001b[0;34m\u001b[0m\u001b[0m\n\u001b[1;32m    891\u001b[0m \u001b[0;34m\u001b[0m\u001b[0m\n",
      "\u001b[0;32m~/anaconda3/envs/python36/lib/python3.6/site-packages/botocore/client.py\u001b[0m in \u001b[0;36mcreate_client\u001b[0;34m(self, service_name, region_name, is_secure, endpoint_url, verify, credentials, scoped_config, api_version, client_config)\u001b[0m\n\u001b[1;32m     67\u001b[0m             'choose-service-name', service_name=service_name)\n\u001b[1;32m     68\u001b[0m         \u001b[0mservice_name\u001b[0m \u001b[0;34m=\u001b[0m \u001b[0mfirst_non_none_response\u001b[0m\u001b[0;34m(\u001b[0m\u001b[0mresponses\u001b[0m\u001b[0;34m,\u001b[0m \u001b[0mdefault\u001b[0m\u001b[0;34m=\u001b[0m\u001b[0mservice_name\u001b[0m\u001b[0;34m)\u001b[0m\u001b[0;34m\u001b[0m\u001b[0;34m\u001b[0m\u001b[0m\n\u001b[0;32m---> 69\u001b[0;31m         \u001b[0mservice_model\u001b[0m \u001b[0;34m=\u001b[0m \u001b[0mself\u001b[0m\u001b[0;34m.\u001b[0m\u001b[0m_load_service_model\u001b[0m\u001b[0;34m(\u001b[0m\u001b[0mservice_name\u001b[0m\u001b[0;34m,\u001b[0m \u001b[0mapi_version\u001b[0m\u001b[0;34m)\u001b[0m\u001b[0;34m\u001b[0m\u001b[0;34m\u001b[0m\u001b[0m\n\u001b[0m\u001b[1;32m     70\u001b[0m         \u001b[0mcls\u001b[0m \u001b[0;34m=\u001b[0m \u001b[0mself\u001b[0m\u001b[0;34m.\u001b[0m\u001b[0m_create_client_class\u001b[0m\u001b[0;34m(\u001b[0m\u001b[0mservice_name\u001b[0m\u001b[0;34m,\u001b[0m \u001b[0mservice_model\u001b[0m\u001b[0;34m)\u001b[0m\u001b[0;34m\u001b[0m\u001b[0;34m\u001b[0m\u001b[0m\n\u001b[1;32m     71\u001b[0m         endpoint_bridge = ClientEndpointBridge(\n",
      "\u001b[0;32m~/anaconda3/envs/python36/lib/python3.6/site-packages/botocore/client.py\u001b[0m in \u001b[0;36m_load_service_model\u001b[0;34m(self, service_name, api_version)\u001b[0m\n\u001b[1;32m    102\u001b[0m     \u001b[0;32mdef\u001b[0m \u001b[0m_load_service_model\u001b[0m\u001b[0;34m(\u001b[0m\u001b[0mself\u001b[0m\u001b[0;34m,\u001b[0m \u001b[0mservice_name\u001b[0m\u001b[0;34m,\u001b[0m \u001b[0mapi_version\u001b[0m\u001b[0;34m=\u001b[0m\u001b[0;32mNone\u001b[0m\u001b[0;34m)\u001b[0m\u001b[0;34m:\u001b[0m\u001b[0;34m\u001b[0m\u001b[0;34m\u001b[0m\u001b[0m\n\u001b[1;32m    103\u001b[0m         json_model = self._loader.load_service_model(service_name, 'service-2',\n\u001b[0;32m--> 104\u001b[0;31m                                                      api_version=api_version)\n\u001b[0m\u001b[1;32m    105\u001b[0m         \u001b[0mservice_model\u001b[0m \u001b[0;34m=\u001b[0m \u001b[0mServiceModel\u001b[0m\u001b[0;34m(\u001b[0m\u001b[0mjson_model\u001b[0m\u001b[0;34m,\u001b[0m \u001b[0mservice_name\u001b[0m\u001b[0;34m=\u001b[0m\u001b[0mservice_name\u001b[0m\u001b[0;34m)\u001b[0m\u001b[0;34m\u001b[0m\u001b[0;34m\u001b[0m\u001b[0m\n\u001b[1;32m    106\u001b[0m         \u001b[0;32mreturn\u001b[0m \u001b[0mservice_model\u001b[0m\u001b[0;34m\u001b[0m\u001b[0;34m\u001b[0m\u001b[0m\n",
      "\u001b[0;32m~/anaconda3/envs/python36/lib/python3.6/site-packages/botocore/loaders.py\u001b[0m in \u001b[0;36m_wrapper\u001b[0;34m(self, *args, **kwargs)\u001b[0m\n\u001b[1;32m    130\u001b[0m         \u001b[0;32mif\u001b[0m \u001b[0mkey\u001b[0m \u001b[0;32min\u001b[0m \u001b[0mself\u001b[0m\u001b[0;34m.\u001b[0m\u001b[0m_cache\u001b[0m\u001b[0;34m:\u001b[0m\u001b[0;34m\u001b[0m\u001b[0;34m\u001b[0m\u001b[0m\n\u001b[1;32m    131\u001b[0m             \u001b[0;32mreturn\u001b[0m \u001b[0mself\u001b[0m\u001b[0;34m.\u001b[0m\u001b[0m_cache\u001b[0m\u001b[0;34m[\u001b[0m\u001b[0mkey\u001b[0m\u001b[0;34m]\u001b[0m\u001b[0;34m\u001b[0m\u001b[0;34m\u001b[0m\u001b[0m\n\u001b[0;32m--> 132\u001b[0;31m         \u001b[0mdata\u001b[0m \u001b[0;34m=\u001b[0m \u001b[0mfunc\u001b[0m\u001b[0;34m(\u001b[0m\u001b[0mself\u001b[0m\u001b[0;34m,\u001b[0m \u001b[0;34m*\u001b[0m\u001b[0margs\u001b[0m\u001b[0;34m,\u001b[0m \u001b[0;34m**\u001b[0m\u001b[0mkwargs\u001b[0m\u001b[0;34m)\u001b[0m\u001b[0;34m\u001b[0m\u001b[0;34m\u001b[0m\u001b[0m\n\u001b[0m\u001b[1;32m    133\u001b[0m         \u001b[0mself\u001b[0m\u001b[0;34m.\u001b[0m\u001b[0m_cache\u001b[0m\u001b[0;34m[\u001b[0m\u001b[0mkey\u001b[0m\u001b[0;34m]\u001b[0m \u001b[0;34m=\u001b[0m \u001b[0mdata\u001b[0m\u001b[0;34m\u001b[0m\u001b[0;34m\u001b[0m\u001b[0m\n\u001b[1;32m    134\u001b[0m         \u001b[0;32mreturn\u001b[0m \u001b[0mdata\u001b[0m\u001b[0;34m\u001b[0m\u001b[0;34m\u001b[0m\u001b[0m\n",
      "\u001b[0;32m~/anaconda3/envs/python36/lib/python3.6/site-packages/botocore/loaders.py\u001b[0m in \u001b[0;36mload_service_model\u001b[0;34m(self, service_name, type_name, api_version)\u001b[0m\n\u001b[1;32m    376\u001b[0m             raise UnknownServiceError(\n\u001b[1;32m    377\u001b[0m                 \u001b[0mservice_name\u001b[0m\u001b[0;34m=\u001b[0m\u001b[0mservice_name\u001b[0m\u001b[0;34m,\u001b[0m\u001b[0;34m\u001b[0m\u001b[0;34m\u001b[0m\u001b[0m\n\u001b[0;32m--> 378\u001b[0;31m                 known_service_names=', '.join(sorted(known_services)))\n\u001b[0m\u001b[1;32m    379\u001b[0m         \u001b[0;32mif\u001b[0m \u001b[0mapi_version\u001b[0m \u001b[0;32mis\u001b[0m \u001b[0;32mNone\u001b[0m\u001b[0;34m:\u001b[0m\u001b[0;34m\u001b[0m\u001b[0;34m\u001b[0m\u001b[0m\n\u001b[1;32m    380\u001b[0m             api_version = self.determine_latest_version(\n",
      "\u001b[0;31mUnknownServiceError\u001b[0m: Unknown service: 'comprehendmedical'. Valid service names are: acm, acm-pca, alexaforbusiness, apigateway, application-autoscaling, appstream, appsync, athena, autoscaling, autoscaling-plans, batch, budgets, ce, cloud9, clouddirectory, cloudformation, cloudfront, cloudhsm, cloudhsmv2, cloudsearch, cloudsearchdomain, cloudtrail, cloudwatch, codebuild, codecommit, codedeploy, codepipeline, codestar, cognito-identity, cognito-idp, cognito-sync, comprehend, config, connect, cur, datapipeline, dax, devicefarm, directconnect, discovery, dlm, dms, ds, dynamodb, dynamodbstreams, ec2, ecr, ecs, efs, eks, elasticache, elasticbeanstalk, elastictranscoder, elb, elbv2, emr, es, events, firehose, fms, gamelift, glacier, glue, greengrass, guardduty, health, iam, importexport, inspector, iot, iot-data, iot-jobs-data, iot1click-devices, iot1click-projects, iotanalytics, kinesis, kinesis-video-archived-media, kinesis-video-media, kinesisanalytics, kinesisvideo, kms, lambda, lex-models, lex-runtime, lightsail, logs, machinelearning, macie, marketplace-entitlement, marketplacecommerceanalytics, mediaconvert, medialive, mediapackage, mediastore, mediastore-data, mediatailor, meteringmarketplace, mgh, mobile, mq, mturk, neptune, opsworks, opsworkscm, organizations, pi, pinpoint, polly, pricing, rds, redshift, rekognition, resource-groups, resourcegroupstaggingapi, route53, route53domains, s3, sagemaker, sagemaker-runtime, sdb, secretsmanager, serverlessrepo, servicecatalog, servicediscovery, ses, shield, signer, sms, snowball, sns, sqs, ssm, stepfunctions, storagegateway, sts, support, swf, transcribe, translate, waf, waf-regional, workdocs, workmail, workspaces, xray"
     ]
    }
   ],
   "source": [
    "import boto3\n",
    "comprehendmedical = boto3.client('comprehendmedical')\n",
    "\n",
    "text = \"Pt is 40yo mother, software engineer HPI : Sleeping trouble on present dosage of Clonidine. Severe Rash  on face and leg, slightly itchy  Meds : Vyvanse  50 mgs po at breakfast daily, Clonidine 0.2 mgs -- 1 and 1 / 2 tabs po qhs HEENT :  Boggy inferior turbinates, No oropharyngeal lesion Lungs : clear Heart : Regular  rhythm Skin :  Papular mild erythematous eruption to hairline Follow-up as scheduled\""
   ]
  },
  {
   "cell_type": "code",
   "execution_count": null,
   "metadata": {},
   "outputs": [],
   "source": [
    "result = comprehendm.detect_entities(Text=text)\n",
    "entities = result['Entities']\n",
    "for entity in entities:\n",
    "    print(entity)"
   ]
  },
  {
   "cell_type": "code",
   "execution_count": null,
   "metadata": {},
   "outputs": [],
   "source": []
  }
 ],
 "metadata": {
  "kernelspec": {
   "display_name": "Python 3",
   "language": "python",
   "name": "python3"
  },
  "language_info": {
   "codemirror_mode": {
    "name": "ipython",
    "version": 3
   },
   "file_extension": ".py",
   "mimetype": "text/x-python",
   "name": "python",
   "nbconvert_exporter": "python",
   "pygments_lexer": "ipython3",
   "version": "3.6.7"
  }
 },
 "nbformat": 4,
 "nbformat_minor": 2
}
