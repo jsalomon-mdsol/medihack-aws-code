{
 "cells": [
  {
   "cell_type": "code",
   "execution_count": 1,
   "metadata": {},
   "outputs": [],
   "source": [
    "import boto3\n",
    "import botocore\n",
    "from botocore.exceptions import ClientError"
   ]
  },
  {
   "cell_type": "code",
   "execution_count": 3,
   "metadata": {},
   "outputs": [
    {
     "name": "stdout",
     "output_type": "stream",
     "text": [
      "Existing buckets:\n",
      "  aws-deepracer-308656cb-e576-4d7c-acf0-c9c8e1fd0bd3\n",
      "  columbo-portale-logs\n",
      "  innovation-unity\n",
      "  operations-blue\n",
      "  rob-bucket-hello\n",
      "  sagemaker-us-east-1-076395046979\n"
     ]
    }
   ],
   "source": [
    "# List existing S3 Buckets\n",
    "def list_buckets():\n",
    "    s3 = boto3.client('s3')\n",
    "    response = s3.list_buckets()\n",
    "    # Output the bucket names\n",
    "    print('Existing buckets:')\n",
    "    for bucket in response['Buckets']:\n",
    "        print(f'  {bucket[\"Name\"]}')\n",
    "              \n",
    "list_buckets()"
   ]
  },
  {
   "cell_type": "code",
   "execution_count": 7,
   "metadata": {},
   "outputs": [
    {
     "name": "stdout",
     "output_type": "stream",
     "text": [
      "An error occurred (IllegalLocationConstraintException) when calling the CreateBucket operation: The unspecified location constraint is incompatible for the region specific endpoint this request was sent to.\n"
     ]
    },
    {
     "data": {
      "text/plain": [
       "'Something wrong happened'"
      ]
     },
     "execution_count": 7,
     "metadata": {},
     "output_type": "execute_result"
    }
   ],
   "source": [
    "# Create an S3 Bucket\n",
    "def create_bucket(bucketname):\n",
    "    s3 = boto3.client('s3')\n",
    "    try:\n",
    "        s3.create_bucket(Bucket=bucketname)\n",
    "    except ClientError as e:\n",
    "        print(e)\n",
    "        return \"Something wrong happened\"\n",
    "    return \"S3 Bucket has been created\"\n",
    "\n",
    "create_bucket('')"
   ]
  },
  {
   "cell_type": "code",
   "execution_count": null,
   "metadata": {},
   "outputs": [],
   "source": [
    "# Upload to S3 Bucket\n",
    "def upload_s3(localfilename, bucketname, s3filename):\n",
    "    s3 = boto3.client('s3')\n",
    "    s3.upload_file(filelocation, bucketname, s3filename)\n",
    "    return \"File has been uploaded to S3 Bucket\""
   ]
  },
  {
   "cell_type": "code",
   "execution_count": null,
   "metadata": {},
   "outputs": [],
   "source": [
    "# Download from an S3 Bucket\n",
    "def download_s3(s3filename, bucketname, localfilename):\n",
    "    s3 = boto3.resource('s3')\n",
    "    try:\n",
    "        s3.Bucket(bucketname).download_file(s3filename, localfilename)\n",
    "    except botocore.exceptions.ClientError as e:\n",
    "        if e.response['Error']['Code'] == \"404\":\n",
    "            print(\"The object does not exist.\")\n",
    "        else:\n",
    "            raise"
   ]
  }
 ],
 "metadata": {
  "kernelspec": {
   "display_name": "Python 3",
   "language": "python",
   "name": "python3"
  },
  "language_info": {
   "codemirror_mode": {
    "name": "ipython",
    "version": 3
   },
   "file_extension": ".py",
   "mimetype": "text/x-python",
   "name": "python",
   "nbconvert_exporter": "python",
   "pygments_lexer": "ipython3",
   "version": "3.6.7"
  }
 },
 "nbformat": 4,
 "nbformat_minor": 2
}
