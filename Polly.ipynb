{
 "cells": [
  {
   "cell_type": "markdown",
   "metadata": {},
   "source": [
    "Amazon Polly is a Text-to-Speech service that uses advanced deep learning technologies to synthesize speech that sounds like a human voice."
   ]
  },
  {
   "cell_type": "code",
   "execution_count": 11,
   "metadata": {},
   "outputs": [],
   "source": [
    "from boto3 import client"
   ]
  },
  {
   "cell_type": "code",
   "execution_count": 12,
   "metadata": {},
   "outputs": [],
   "source": [
    "def write_file(filename,audiostream):\n",
    "    file = open('speech.mp3', 'wb')\n",
    "    file.write(audiostream.read())\n",
    "    file.close()\n",
    "    return \"File has been written\"\n",
    "\n",
    "def text_to_speech(text, output, voice,filename):\n",
    "    polly = client(\"polly\", region_name=\"us-east-1\")\n",
    "\n",
    "    response = polly.synthesize_speech(\n",
    "        Text=text,\n",
    "        OutputFormat=output,\n",
    "        VoiceId=voice)\n",
    "    \n",
    "    write_file(filename,response['AudioStream'])\n",
    "    \n",
    "    return \"TTS has been done and saved\""
   ]
  },
  {
   "cell_type": "code",
   "execution_count": 16,
   "metadata": {},
   "outputs": [
    {
     "data": {
      "text/plain": [
       "'TTS has been done and saved'"
      ]
     },
     "execution_count": 16,
     "metadata": {},
     "output_type": "execute_result"
    }
   ],
   "source": [
    "text = 'Hello Hackers! Welcome to Medidata NEXT Hackathon!'\n",
    "output = 'mp3'\n",
    "voice = 'Amy'\n",
    "filename = 'speech.mp3'\n",
    "\n",
    "text_to_speech(text,output, voice, filename)"
   ]
  },
  {
   "cell_type": "code",
   "execution_count": null,
   "metadata": {},
   "outputs": [],
   "source": []
  }
 ],
 "metadata": {
  "kernelspec": {
   "display_name": "Python 3",
   "language": "python",
   "name": "python3"
  },
  "language_info": {
   "codemirror_mode": {
    "name": "ipython",
    "version": 3
   },
   "file_extension": ".py",
   "mimetype": "text/x-python",
   "name": "python",
   "nbconvert_exporter": "python",
   "pygments_lexer": "ipython3",
   "version": "3.6.7"
  }
 },
 "nbformat": 4,
 "nbformat_minor": 2
}
